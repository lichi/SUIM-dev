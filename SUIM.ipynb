{
  "nbformat": 4,
  "nbformat_minor": 0,
  "metadata": {
    "colab": {
      "name": "SUIM.ipynb",
      "provenance": [],
      "collapsed_sections": [
        "Bpfv7OvMbzca",
        "iyfjWh1hz_CR",
        "qxonrv6h0KSY"
      ]
    },
    "kernelspec": {
      "name": "python3",
      "display_name": "Python 3"
    },
    "language_info": {
      "name": "python"
    },
    "accelerator": "GPU",
    "gpuClass": "standard"
  },
  "cells": [
    {
      "cell_type": "markdown",
      "source": [
        "## Testing connection to GitLab"
      ],
      "metadata": {
        "id": "Bpfv7OvMbzca"
      }
    },
    {
      "cell_type": "code",
      "source": [
        "%cd \"/content\""
      ],
      "metadata": {
        "colab": {
          "base_uri": "https://localhost:8080/"
        },
        "id": "ILiiQZLiE8U2",
        "outputId": "5beef4c0-2040-4180-a05b-60e74dc46508"
      },
      "execution_count": null,
      "outputs": [
        {
          "output_type": "stream",
          "name": "stdout",
          "text": [
            "/content\n"
          ]
        }
      ]
    },
    {
      "cell_type": "code",
      "source": [
        "!git init"
      ],
      "metadata": {
        "colab": {
          "base_uri": "https://localhost:8080/"
        },
        "id": "0gmXRYlFFMY1",
        "outputId": "4d8ca516-157e-4384-d50c-bb8c353aeed0"
      },
      "execution_count": null,
      "outputs": [
        {
          "output_type": "stream",
          "name": "stdout",
          "text": [
            "Initialized empty Git repository in /content/drive/MyDrive/gitlab/.git/\n"
          ]
        }
      ]
    },
    {
      "cell_type": "code",
      "source": [
        "!git config --local user.email dchoqueluque.veox@gmail.com \n",
        "!git config --local user.name DavidGCR"
      ],
      "metadata": {
        "id": "_BC9N_TwFmLQ"
      },
      "execution_count": null,
      "outputs": []
    },
    {
      "cell_type": "markdown",
      "source": [
        "## Clonning SUIM dev Repo"
      ],
      "metadata": {
        "id": "aPyflBsVz3Lq"
      }
    },
    {
      "cell_type": "code",
      "execution_count": 1,
      "metadata": {
        "id": "gLE0gskk7wSY",
        "colab": {
          "base_uri": "https://localhost:8080/"
        },
        "outputId": "13aa67b0-43de-4543-ffc4-4778596dcca7"
      },
      "outputs": [
        {
          "output_type": "stream",
          "name": "stdout",
          "text": [
            "Cloning into 'SUIM-dev'...\n",
            "remote: Enumerating objects: 348, done.\u001b[K\n",
            "remote: Counting objects: 100% (72/72), done.\u001b[K\n",
            "remote: Compressing objects: 100% (46/46), done.\u001b[K\n",
            "remote: Total 348 (delta 36), reused 58 (delta 24), pack-reused 276\u001b[K\n",
            "Receiving objects: 100% (348/348), 44.60 MiB | 11.86 MiB/s, done.\n",
            "Resolving deltas: 100% (171/171), done.\n"
          ]
        }
      ],
      "source": [
        "!git clone https://github.com/davidGCR/SUIM-dev.git\n",
        "# !git clone https://gitlab.com/NEREUZ/concha-abanico/computer-vision-and-ia.git"
      ]
    },
    {
      "cell_type": "code",
      "source": [
        "!rm -rf /content/SUIM-dev"
      ],
      "metadata": {
        "id": "dTnx_ge7ca3v"
      },
      "execution_count": null,
      "outputs": []
    },
    {
      "cell_type": "markdown",
      "source": [
        "## Preparing colab env"
      ],
      "metadata": {
        "id": "iyfjWh1hz_CR"
      }
    },
    {
      "cell_type": "code",
      "source": [
        "! bash /content/SUIM-dev/colab_scripts/prepare_data.sh"
      ],
      "metadata": {
        "colab": {
          "base_uri": "https://localhost:8080/"
        },
        "id": "lUFYoIBHLOfP",
        "outputId": "80d3dd43-2201-46de-a745-8030b079aa58"
      },
      "execution_count": 2,
      "outputs": [
        {
          "output_type": "stream",
          "name": "stdout",
          "text": [
            "Looking in indexes: https://pypi.org/simple, https://us-python.pkg.dev/colab-wheels/public/simple/\n",
            "Requirement already satisfied: gdown in /usr/local/lib/python3.7/dist-packages (4.4.0)\n",
            "Collecting gdown\n",
            "  Downloading gdown-4.5.1.tar.gz (14 kB)\n",
            "  Installing build dependencies ... \u001b[?25l\u001b[?25hdone\n",
            "  Getting requirements to build wheel ... \u001b[?25l\u001b[?25hdone\n",
            "    Preparing wheel metadata ... \u001b[?25l\u001b[?25hdone\n",
            "Requirement already satisfied: requests[socks] in /usr/local/lib/python3.7/dist-packages (from gdown) (2.23.0)\n",
            "Requirement already satisfied: beautifulsoup4 in /usr/local/lib/python3.7/dist-packages (from gdown) (4.6.3)\n",
            "Requirement already satisfied: six in /usr/local/lib/python3.7/dist-packages (from gdown) (1.15.0)\n",
            "Requirement already satisfied: filelock in /usr/local/lib/python3.7/dist-packages (from gdown) (3.7.1)\n",
            "Requirement already satisfied: tqdm in /usr/local/lib/python3.7/dist-packages (from gdown) (4.64.0)\n",
            "Requirement already satisfied: idna<3,>=2.5 in /usr/local/lib/python3.7/dist-packages (from requests[socks]->gdown) (2.10)\n",
            "Requirement already satisfied: urllib3!=1.25.0,!=1.25.1,<1.26,>=1.21.1 in /usr/local/lib/python3.7/dist-packages (from requests[socks]->gdown) (1.24.3)\n",
            "Requirement already satisfied: chardet<4,>=3.0.2 in /usr/local/lib/python3.7/dist-packages (from requests[socks]->gdown) (3.0.4)\n",
            "Requirement already satisfied: certifi>=2017.4.17 in /usr/local/lib/python3.7/dist-packages (from requests[socks]->gdown) (2022.6.15)\n",
            "Requirement already satisfied: PySocks!=1.5.7,>=1.5.6 in /usr/local/lib/python3.7/dist-packages (from requests[socks]->gdown) (1.7.1)\n",
            "Building wheels for collected packages: gdown\n",
            "  Building wheel for gdown (PEP 517) ... \u001b[?25l\u001b[?25hdone\n",
            "  Created wheel for gdown: filename=gdown-4.5.1-py3-none-any.whl size=14951 sha256=ae7d8f7ba0ab03b79fede9516e9fbe415227df57e455051751a1ae33584bf5c9\n",
            "  Stored in directory: /tmp/pip-ephem-wheel-cache-4duj6fw6/wheels/3d/ec/b0/a96d1d126183f98570a785e6bf8789fca559853a9260e928e1\n",
            "Successfully built gdown\n",
            "Installing collected packages: gdown\n",
            "  Attempting uninstall: gdown\n",
            "    Found existing installation: gdown 4.4.0\n",
            "    Uninstalling gdown-4.4.0:\n",
            "      Successfully uninstalled gdown-4.4.0\n",
            "Successfully installed gdown-4.5.1\n"
          ]
        }
      ]
    },
    {
      "cell_type": "markdown",
      "source": [
        "## Donwload SUIM dataset for training"
      ],
      "metadata": {
        "id": "qxonrv6h0KSY"
      }
    },
    {
      "cell_type": "code",
      "source": [
        "! bash /content/SUIM-dev/colab_scripts/suim-data.sh"
      ],
      "metadata": {
        "colab": {
          "base_uri": "https://localhost:8080/"
        },
        "id": "WwsJaHtlzPTp",
        "outputId": "3a7a9939-7286-4f30-fc97-631f03ca54ce"
      },
      "execution_count": 12,
      "outputs": [
        {
          "output_type": "stream",
          "name": "stdout",
          "text": [
            "Looking in indexes: https://pypi.org/simple, https://us-python.pkg.dev/colab-wheels/public/simple/\n",
            "Requirement already satisfied: gdown in /usr/local/lib/python3.7/dist-packages (4.5.1)\n",
            "Requirement already satisfied: filelock in /usr/local/lib/python3.7/dist-packages (from gdown) (3.7.1)\n",
            "Requirement already satisfied: six in /usr/local/lib/python3.7/dist-packages (from gdown) (1.15.0)\n",
            "Requirement already satisfied: beautifulsoup4 in /usr/local/lib/python3.7/dist-packages (from gdown) (4.6.3)\n",
            "Requirement already satisfied: requests[socks] in /usr/local/lib/python3.7/dist-packages (from gdown) (2.23.0)\n",
            "Requirement already satisfied: tqdm in /usr/local/lib/python3.7/dist-packages (from gdown) (4.64.0)\n",
            "Requirement already satisfied: chardet<4,>=3.0.2 in /usr/local/lib/python3.7/dist-packages (from requests[socks]->gdown) (3.0.4)\n",
            "Requirement already satisfied: idna<3,>=2.5 in /usr/local/lib/python3.7/dist-packages (from requests[socks]->gdown) (2.10)\n",
            "Requirement already satisfied: certifi>=2017.4.17 in /usr/local/lib/python3.7/dist-packages (from requests[socks]->gdown) (2022.6.15)\n",
            "Requirement already satisfied: urllib3!=1.25.0,!=1.25.1,<1.26,>=1.21.1 in /usr/local/lib/python3.7/dist-packages (from requests[socks]->gdown) (1.24.3)\n",
            "Requirement already satisfied: PySocks!=1.5.7,>=1.5.6 in /usr/local/lib/python3.7/dist-packages (from requests[socks]->gdown) (1.7.1)\n",
            "===> Creating folders...\n",
            "mkdir: cannot create directory ‘/content/DATA’: File exists\n",
            "===> Downloading SUIM train_val\n",
            "/usr/local/lib/python3.7/dist-packages/gdown/cli.py:131: FutureWarning: Option `--id` was deprecated in version 4.3.1 and will be removed in 5.0. You don't need to pass it anymore to use a file ID.\n",
            "  category=FutureWarning,\n",
            "Downloading...\n",
            "From: https://drive.google.com/uc?id=1ZXf4Vu1PjR2uDzr-kQQrj7X21B-EetIz\n",
            "To: /content/train_val.zip\n",
            "100% 172M/172M [00:03<00:00, 47.6MB/s]\n",
            "===> Unzipping train_val.zip\n"
          ]
        }
      ]
    },
    {
      "cell_type": "markdown",
      "source": [
        "## Donwload Abanico dataset for training"
      ],
      "metadata": {
        "id": "QNeKVp6di_7H"
      }
    },
    {
      "cell_type": "code",
      "source": [
        "! bash /content/SUIM-dev/colab_scripts/abanico-data.sh"
      ],
      "metadata": {
        "id": "jgh8YeDRjCT3"
      },
      "execution_count": null,
      "outputs": []
    },
    {
      "cell_type": "markdown",
      "source": [
        "## Train SUIM model with SUIM/Abanico dataset"
      ],
      "metadata": {
        "id": "qXfsuCZW0R55"
      }
    },
    {
      "cell_type": "markdown",
      "source": [
        "### SUIM"
      ],
      "metadata": {
        "id": "S8tdagBH2-je"
      }
    },
    {
      "cell_type": "code",
      "source": [
        "!python /content/SUIM-dev/train_suimnet.py"
      ],
      "metadata": {
        "colab": {
          "base_uri": "https://localhost:8080/"
        },
        "id": "sg_A4m_S0Wy4",
        "outputId": "6db65a97-08ef-4f6f-c658-c2d61b88d233"
      },
      "execution_count": 13,
      "outputs": [
        {
          "output_type": "stream",
          "name": "stdout",
          "text": [
            "train_dir:  /content/DATA/SUIM/train_val/\n",
            "2022-07-08 20:51:40.350154: W tensorflow/core/common_runtime/gpu/gpu_bfc_allocator.cc:39] Overriding allow_growth setting because the TF_FORCE_GPU_ALLOW_GROWTH environment variable is set. Original config value was 0.\n",
            "/usr/local/lib/python3.7/dist-packages/keras/optimizer_v2/adam.py:105: UserWarning: The `lr` argument is deprecated, use `learning_rate` instead.\n",
            "  super(Adam, self).__init__(name, **kwargs)\n",
            "Found 1525 images belonging to 1 classes.\n",
            "Found 1525 images belonging to 1 classes.\n",
            "image:  (8, 256, 320, 3)\n",
            "mask:  (8, 256, 320, 5)\n",
            "Epoch 1/10\n",
            "190/190 [==============================] - ETA: 0s - loss: 0.2293 - accuracy: 0.3712\n",
            "Epoch 1: loss improved from inf to 0.22930, saving model to /content/drive/MyDrive/DATA/SUIM/ckpt/suimnet_vgg.hdf5\n",
            "190/190 [==============================] - 1782s 9s/step - loss: 0.2293 - accuracy: 0.3712\n",
            "Epoch 2/10\n",
            " 15/190 [=>............................] - ETA: 27:21 - loss: 0.1800 - accuracy: 0.3741Traceback (most recent call last):\n",
            "  File \"/content/SUIM-dev/train_suimnet.py\", line 108, in <module>\n",
            "    callbacks = [model_checkpoint])\n",
            "  File \"/usr/local/lib/python3.7/dist-packages/keras/utils/traceback_utils.py\", line 64, in error_handler\n",
            "    return fn(*args, **kwargs)\n",
            "  File \"/usr/local/lib/python3.7/dist-packages/keras/engine/training.py\", line 1384, in fit\n",
            "    tmp_logs = self.train_function(iterator)\n",
            "  File \"/usr/local/lib/python3.7/dist-packages/tensorflow/python/util/traceback_utils.py\", line 150, in error_handler\n",
            "    return fn(*args, **kwargs)\n",
            "  File \"/usr/local/lib/python3.7/dist-packages/tensorflow/python/eager/def_function.py\", line 915, in __call__\n",
            "    result = self._call(*args, **kwds)\n",
            "  File \"/usr/local/lib/python3.7/dist-packages/tensorflow/python/eager/def_function.py\", line 947, in _call\n",
            "    return self._stateless_fn(*args, **kwds)  # pylint: disable=not-callable\n",
            "  File \"/usr/local/lib/python3.7/dist-packages/tensorflow/python/eager/function.py\", line 2957, in __call__\n",
            "    filtered_flat_args, captured_inputs=graph_function.captured_inputs)  # pylint: disable=protected-access\n",
            "  File \"/usr/local/lib/python3.7/dist-packages/tensorflow/python/eager/function.py\", line 1854, in _call_flat\n",
            "    ctx, args, cancellation_manager=cancellation_manager))\n",
            "  File \"/usr/local/lib/python3.7/dist-packages/tensorflow/python/eager/function.py\", line 504, in call\n",
            "    ctx=ctx)\n",
            "  File \"/usr/local/lib/python3.7/dist-packages/tensorflow/python/eager/execute.py\", line 55, in quick_execute\n",
            "    inputs, attrs, num_outputs)\n",
            "KeyboardInterrupt\n",
            "terminate called without an active exception\n"
          ]
        }
      ]
    },
    {
      "cell_type": "markdown",
      "source": [
        "### Abanico"
      ],
      "metadata": {
        "id": "AcHrREQH3Ehv"
      }
    },
    {
      "cell_type": "code",
      "source": [
        "!python /content/SUIM-dev/train_suimnet.py"
      ],
      "metadata": {
        "colab": {
          "base_uri": "https://localhost:8080/"
        },
        "id": "6onyJG-1m8-4",
        "outputId": "c531ebe6-0e65-4168-db05-cfeb9131c533"
      },
      "execution_count": null,
      "outputs": [
        {
          "output_type": "stream",
          "name": "stdout",
          "text": [
            "train_dir:  /content/DATA/DataSet_ConchasAbanico/train_val/\n",
            "2022-07-08 21:34:43.382982: W tensorflow/core/common_runtime/gpu/gpu_bfc_allocator.cc:39] Overriding allow_growth setting because the TF_FORCE_GPU_ALLOW_GROWTH environment variable is set. Original config value was 0.\n",
            "/usr/local/lib/python3.7/dist-packages/keras/optimizer_v2/adam.py:105: UserWarning: The `lr` argument is deprecated, use `learning_rate` instead.\n",
            "  super(Adam, self).__init__(name, **kwargs)\n",
            "Found 140 images belonging to 1 classes.\n",
            "Found 140 images belonging to 1 classes.\n",
            "image:  (8, 256, 320, 3)\n",
            "mask:  (8, 256, 320, 5)\n",
            "Epoch 1/10\n",
            "18/18 [==============================] - ETA: 0s - loss: 0.5376 - accuracy: 0.6843 \n",
            "Epoch 1: loss improved from inf to 0.53756, saving model to /content/drive/MyDrive/DATA/DataSet_ConchasAbanico/ckpt/suimnet_vgg.hdf5\n",
            "18/18 [==============================] - 202s 11s/step - loss: 0.5376 - accuracy: 0.6843\n",
            "Epoch 2/10\n",
            "18/18 [==============================] - ETA: 0s - loss: 0.0801 - accuracy: 0.7526 \n",
            "Epoch 2: loss improved from 0.53756 to 0.08014, saving model to /content/drive/MyDrive/DATA/DataSet_ConchasAbanico/ckpt/suimnet_vgg.hdf5\n",
            "18/18 [==============================] - 206s 11s/step - loss: 0.0801 - accuracy: 0.7526\n",
            "Epoch 3/10\n",
            "18/18 [==============================] - ETA: 0s - loss: 0.0565 - accuracy: 0.7975 \n",
            "Epoch 3: loss improved from 0.08014 to 0.05648, saving model to /content/drive/MyDrive/DATA/DataSet_ConchasAbanico/ckpt/suimnet_vgg.hdf5\n",
            "18/18 [==============================] - 208s 12s/step - loss: 0.0565 - accuracy: 0.7975\n",
            "Epoch 4/10\n",
            "18/18 [==============================] - ETA: 0s - loss: 0.0542 - accuracy: 0.8683 \n",
            "Epoch 4: loss improved from 0.05648 to 0.05416, saving model to /content/drive/MyDrive/DATA/DataSet_ConchasAbanico/ckpt/suimnet_vgg.hdf5\n",
            "18/18 [==============================] - 206s 11s/step - loss: 0.0542 - accuracy: 0.8683\n",
            "Epoch 5/10\n",
            "18/18 [==============================] - ETA: 0s - loss: 0.0541 - accuracy: 0.9563 \n",
            "Epoch 5: loss improved from 0.05416 to 0.05415, saving model to /content/drive/MyDrive/DATA/DataSet_ConchasAbanico/ckpt/suimnet_vgg.hdf5\n",
            "18/18 [==============================] - 209s 12s/step - loss: 0.0541 - accuracy: 0.9563\n",
            "Epoch 6/10\n",
            " 8/18 [============>.................] - ETA: 1:58 - loss: 0.0502 - accuracy: 0.9632"
          ]
        }
      ]
    },
    {
      "cell_type": "markdown",
      "source": [
        "## Testing models: Inference"
      ],
      "metadata": {
        "id": "H74tag7T0XwZ"
      }
    },
    {
      "cell_type": "code",
      "source": [
        "!python /content/SUIM-dev/test_unet.py"
      ],
      "metadata": {
        "id": "kSMJm1wRBr3r"
      },
      "execution_count": null,
      "outputs": []
    },
    {
      "cell_type": "code",
      "source": [
        "!python /content/SUIM-dev/test_suimnet.py"
      ],
      "metadata": {
        "colab": {
          "base_uri": "https://localhost:8080/"
        },
        "id": "-4wK1-DXRXQ6",
        "outputId": "ad75a639-ff2c-4130-c862-61ad0dd40aa5"
      },
      "execution_count": 3,
      "outputs": [
        {
          "output_type": "stream",
          "name": "stdout",
          "text": [
            "2022-07-07 16:17:26.535052: W tensorflow/core/common_runtime/gpu/gpu_bfc_allocator.cc:39] Overriding allow_growth setting because the TF_FORCE_GPU_ALLOW_GROWTH environment variable is set. Original config value was 0.\n",
            "Downloading data from https://storage.googleapis.com/tensorflow/keras-applications/vgg16/vgg16_weights_tf_dim_ordering_tf_kernels_notop.h5\n",
            "58892288/58889256 [==============================] - 0s 0us/step\n",
            "58900480/58889256 [==============================] - 0s 0us/step\n",
            "/usr/local/lib/python3.7/dist-packages/keras/optimizer_v2/adam.py:105: UserWarning: The `lr` argument is deprecated, use `learning_rate` instead.\n",
            "  super(Adam, self).__init__(name, **kwargs)\n",
            "Model: \"model\"\n",
            "__________________________________________________________________________________________________\n",
            " Layer (type)                   Output Shape         Param #     Connected to                     \n",
            "==================================================================================================\n",
            " input_1 (InputLayer)           [(None, 256, 320, 3  0           []                               \n",
            "                                )]                                                                \n",
            "                                                                                                  \n",
            " block1_conv1 (Conv2D)          (None, 256, 320, 64  1792        ['input_1[0][0]']                \n",
            "                                )                                                                 \n",
            "                                                                                                  \n",
            " block1_conv2 (Conv2D)          (None, 256, 320, 64  36928       ['block1_conv1[0][0]']           \n",
            "                                )                                                                 \n",
            "                                                                                                  \n",
            " block1_pool (MaxPooling2D)     (None, 128, 160, 64  0           ['block1_conv2[0][0]']           \n",
            "                                )                                                                 \n",
            "                                                                                                  \n",
            " block2_conv1 (Conv2D)          (None, 128, 160, 12  73856       ['block1_pool[0][0]']            \n",
            "                                8)                                                                \n",
            "                                                                                                  \n",
            " block2_conv2 (Conv2D)          (None, 128, 160, 12  147584      ['block2_conv1[0][0]']           \n",
            "                                8)                                                                \n",
            "                                                                                                  \n",
            " block2_pool (MaxPooling2D)     (None, 64, 80, 128)  0           ['block2_conv2[0][0]']           \n",
            "                                                                                                  \n",
            " block3_conv1 (Conv2D)          (None, 64, 80, 256)  295168      ['block2_pool[0][0]']            \n",
            "                                                                                                  \n",
            " block3_conv2 (Conv2D)          (None, 64, 80, 256)  590080      ['block3_conv1[0][0]']           \n",
            "                                                                                                  \n",
            " block3_conv3 (Conv2D)          (None, 64, 80, 256)  590080      ['block3_conv2[0][0]']           \n",
            "                                                                                                  \n",
            " block3_pool (MaxPooling2D)     (None, 32, 40, 256)  0           ['block3_conv3[0][0]']           \n",
            "                                                                                                  \n",
            " block4_conv1 (Conv2D)          (None, 32, 40, 512)  1180160     ['block3_pool[0][0]']            \n",
            "                                                                                                  \n",
            " block4_conv2 (Conv2D)          (None, 32, 40, 512)  2359808     ['block4_conv1[0][0]']           \n",
            "                                                                                                  \n",
            " block4_conv3 (Conv2D)          (None, 32, 40, 512)  2359808     ['block4_conv2[0][0]']           \n",
            "                                                                                                  \n",
            " block4_pool (MaxPooling2D)     (None, 16, 20, 512)  0           ['block4_conv3[0][0]']           \n",
            "                                                                                                  \n",
            " up_sampling2d (UpSampling2D)   (None, 32, 40, 512)  0           ['block4_pool[0][0]']            \n",
            "                                                                                                  \n",
            " conv2d (Conv2D)                (None, 32, 40, 512)  2359808     ['up_sampling2d[0][0]']          \n",
            "                                                                                                  \n",
            " batch_normalization (BatchNorm  (None, 32, 40, 512)  2048       ['conv2d[0][0]']                 \n",
            " alization)                                                                                       \n",
            "                                                                                                  \n",
            " concatenate (Concatenate)      (None, 32, 40, 768)  0           ['batch_normalization[0][0]',    \n",
            "                                                                  'block3_pool[0][0]']            \n",
            "                                                                                                  \n",
            " up_sampling2d_1 (UpSampling2D)  (None, 64, 80, 768)  0          ['concatenate[0][0]']            \n",
            "                                                                                                  \n",
            " conv2d_1 (Conv2D)              (None, 64, 80, 256)  1769728     ['up_sampling2d_1[0][0]']        \n",
            "                                                                                                  \n",
            " batch_normalization_1 (BatchNo  (None, 64, 80, 256)  1024       ['conv2d_1[0][0]']               \n",
            " rmalization)                                                                                     \n",
            "                                                                                                  \n",
            " concatenate_1 (Concatenate)    (None, 64, 80, 384)  0           ['batch_normalization_1[0][0]',  \n",
            "                                                                  'block2_pool[0][0]']            \n",
            "                                                                                                  \n",
            " up_sampling2d_2 (UpSampling2D)  (None, 128, 160, 38  0          ['concatenate_1[0][0]']          \n",
            "                                4)                                                                \n",
            "                                                                                                  \n",
            " conv2d_2 (Conv2D)              (None, 128, 160, 12  442496      ['up_sampling2d_2[0][0]']        \n",
            "                                8)                                                                \n",
            "                                                                                                  \n",
            " batch_normalization_2 (BatchNo  (None, 128, 160, 12  512        ['conv2d_2[0][0]']               \n",
            " rmalization)                   8)                                                                \n",
            "                                                                                                  \n",
            " concatenate_2 (Concatenate)    (None, 128, 160, 19  0           ['batch_normalization_2[0][0]',  \n",
            "                                2)                                'block1_pool[0][0]']            \n",
            "                                                                                                  \n",
            " up_sampling2d_3 (UpSampling2D)  (None, 256, 320, 19  0          ['concatenate_2[0][0]']          \n",
            "                                2)                                                                \n",
            "                                                                                                  \n",
            " output (Conv2D)                (None, 256, 320, 5)  8645        ['up_sampling2d_3[0][0]']        \n",
            "                                                                                                  \n",
            "==================================================================================================\n",
            "Total params: 12,219,525\n",
            "Trainable params: 12,217,733\n",
            "Non-trainable params: 1,792\n",
            "__________________________________________________________________________________________________\n",
            "None\n",
            "Out_img size:  (1, 256, 320, 5)\n",
            "tested: /content/drive/MyDrive/DATA/SUIM/data/test/images/f_r_1965_.jpg\n",
            "Out_img size:  (1, 256, 320, 5)\n",
            "tested: /content/drive/MyDrive/DATA/SUIM/data/test/images/d_r_598_.jpg\n",
            "Out_img size:  (1, 256, 320, 5)\n",
            "tested: /content/drive/MyDrive/DATA/SUIM/data/test/images/f_r_329_.jpg\n",
            "Out_img size:  (1, 256, 320, 5)\n",
            "tested: /content/drive/MyDrive/DATA/SUIM/data/test/images/n_l_100_.jpg\n",
            "Out_img size:  (1, 256, 320, 5)\n",
            "tested: /content/drive/MyDrive/DATA/SUIM/data/test/images/w_r_147_.jpg\n",
            "Out_img size:  (1, 256, 320, 5)\n",
            "tested: /content/drive/MyDrive/DATA/SUIM/data/test/images/n_l_52_.jpg\n",
            "Out_img size:  (1, 256, 320, 5)\n",
            "tested: /content/drive/MyDrive/DATA/SUIM/data/test/images/d_r_47_.jpg\n",
            "Out_img size:  (1, 256, 320, 5)\n",
            "tested: /content/drive/MyDrive/DATA/SUIM/data/test/images/n_l_12_.jpg\n"
          ]
        }
      ]
    }
  ]
}